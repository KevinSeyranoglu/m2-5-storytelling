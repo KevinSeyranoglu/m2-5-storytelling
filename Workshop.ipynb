{
 "cells": [
  {
   "cell_type": "markdown",
   "metadata": {},
   "source": [
    "# 1. EDB Score \n",
    "\n",
    "In `data/DBData.csv`, you have the full \"ease of doing business\" dataset from the World Bank. Reformat it into the **Tidy Data** format, so one row is per-year-per-country\n",
    "\n",
    "Result should look like:\n",
    "\n",
    "![](EDB_unstack.png)"
   ]
  },
  {
   "cell_type": "code",
   "execution_count": 78,
   "metadata": {},
   "outputs": [
    {
     "output_type": "display_data",
     "data": {
      "text/plain": "   Year    Country  \\\n0  2004    Albania   \n1  2004    Algeria   \n2  2004     Angola   \n3  2004  Argentina   \n4  2004    Armenia   \n\n   Dealing with construction permits (DB06-15 methodology) - Score  \\\n0                                                NaN                 \n1                                                NaN                 \n2                                                NaN                 \n3                                                NaN                 \n4                                                NaN                 \n\n   Dealing with construction permits (DB16-19 methodology) - Score  \\\n0                                                NaN                 \n1                                                NaN                 \n2                                                NaN                 \n3                                                NaN                 \n4                                                NaN                 \n\n   Dealing with construction permits: Building quality control index (0-15) (DB16-19 methodology)  \\\n0                                                NaN                                                \n1                                                NaN                                                \n2                                                NaN                                                \n3                                                NaN                                                \n4                                                NaN                                                \n\n   Dealing with construction permits: Building quality control index (0-15) (DB16-19 methodology) - Score  \\\n0                                                NaN                                                        \n1                                                NaN                                                        \n2                                                NaN                                                        \n3                                                NaN                                                        \n4                                                NaN                                                        \n\n   Dealing with construction permits: Cost (% of Warehouse value)  \\\n0                                                NaN                \n1                                                NaN                \n2                                                NaN                \n3                                                NaN                \n4                                                NaN                \n\n   Dealing with construction permits: Cost (% of Warehouse value) - Score  \\\n0                                                NaN                        \n1                                                NaN                        \n2                                                NaN                        \n3                                                NaN                        \n4                                                NaN                        \n\n   Dealing with construction permits: Liability and insurance regimes index (0-2) (DB16-19 methodology)  \\\n0                                                NaN                                                      \n1                                                NaN                                                      \n2                                                NaN                                                      \n3                                                NaN                                                      \n4                                                NaN                                                      \n\n   Dealing with construction permits: Procedures (number)  ...  \\\n0                                                NaN       ...   \n1                                                NaN       ...   \n2                                                NaN       ...   \n3                                                NaN       ...   \n4                                                NaN       ...   \n\n   Trading across borders: Documents to export (number) (DB06-15 methodology)  \\\n0                                                NaN                            \n1                                                NaN                            \n2                                                NaN                            \n3                                                NaN                            \n4                                                NaN                            \n\n   Trading across borders: Documents to export (number) (DB06-15 methodology) - Score  \\\n0                                                NaN                                    \n1                                                NaN                                    \n2                                                NaN                                    \n3                                                NaN                                    \n4                                                NaN                                    \n\n   Trading across borders: Documents to import (number) (DB06-15 methodology)  \\\n0                                                NaN                            \n1                                                NaN                            \n2                                                NaN                            \n3                                                NaN                            \n4                                                NaN                            \n\n   Trading across borders: Documents to import (number) (DB06-15 methodology) - Score  \\\n0                                                NaN                                    \n1                                                NaN                                    \n2                                                NaN                                    \n3                                                NaN                                    \n4                                                NaN                                    \n\n   Trading across borders: Time to export (days) (DB06-15 methodology) - Score  \\\n0                                                NaN                             \n1                                                NaN                             \n2                                                NaN                             \n3                                                NaN                             \n4                                                NaN                             \n\n   Trading across borders: Time to export: Border compliance (hours) (DB16-19 methodology) - Score  \\\n0                                                NaN                                                 \n1                                                NaN                                                 \n2                                                NaN                                                 \n3                                                NaN                                                 \n4                                                NaN                                                 \n\n   Trading across borders: Time to export: Documentary compliance (hours) (DB16-19 methodology) - Score  \\\n0                                                NaN                                                      \n1                                                NaN                                                      \n2                                                NaN                                                      \n3                                                NaN                                                      \n4                                                NaN                                                      \n\n   Trading across borders: Time to import (days) (DB06-15 methodology) - Score  \\\n0                                                NaN                             \n1                                                NaN                             \n2                                                NaN                             \n3                                                NaN                             \n4                                                NaN                             \n\n   Trading across borders: Time to import: Border compliance (hours) (DB16-19 methodology) - Score  \\\n0                                                NaN                                                 \n1                                                NaN                                                 \n2                                                NaN                                                 \n3                                                NaN                                                 \n4                                                NaN                                                 \n\n   Trading across borders: Time to import: Documentary compliance (hours) (DB16-19 methodology) - Score  \n0                                                NaN                                                     \n1                                                NaN                                                     \n2                                                NaN                                                     \n3                                                NaN                                                     \n4                                                NaN                                                     \n\n[5 rows x 207 columns]",
      "text/html": "<div>\n<style scoped>\n    .dataframe tbody tr th:only-of-type {\n        vertical-align: middle;\n    }\n\n    .dataframe tbody tr th {\n        vertical-align: top;\n    }\n\n    .dataframe thead th {\n        text-align: right;\n    }\n</style>\n<table border=\"1\" class=\"dataframe\">\n  <thead>\n    <tr style=\"text-align: right;\">\n      <th></th>\n      <th>Year</th>\n      <th>Country</th>\n      <th>Dealing with construction permits (DB06-15 methodology) - Score</th>\n      <th>Dealing with construction permits (DB16-19 methodology) - Score</th>\n      <th>Dealing with construction permits: Building quality control index (0-15) (DB16-19 methodology)</th>\n      <th>Dealing with construction permits: Building quality control index (0-15) (DB16-19 methodology) - Score</th>\n      <th>Dealing with construction permits: Cost (% of Warehouse value)</th>\n      <th>Dealing with construction permits: Cost (% of Warehouse value) - Score</th>\n      <th>Dealing with construction permits: Liability and insurance regimes index (0-2) (DB16-19 methodology)</th>\n      <th>Dealing with construction permits: Procedures (number)</th>\n      <th>...</th>\n      <th>Trading across borders: Documents to export (number) (DB06-15 methodology)</th>\n      <th>Trading across borders: Documents to export (number) (DB06-15 methodology) - Score</th>\n      <th>Trading across borders: Documents to import (number) (DB06-15 methodology)</th>\n      <th>Trading across borders: Documents to import (number) (DB06-15 methodology) - Score</th>\n      <th>Trading across borders: Time to export (days) (DB06-15 methodology) - Score</th>\n      <th>Trading across borders: Time to export: Border compliance (hours) (DB16-19 methodology) - Score</th>\n      <th>Trading across borders: Time to export: Documentary compliance (hours) (DB16-19 methodology) - Score</th>\n      <th>Trading across borders: Time to import (days) (DB06-15 methodology) - Score</th>\n      <th>Trading across borders: Time to import: Border compliance (hours) (DB16-19 methodology) - Score</th>\n      <th>Trading across borders: Time to import: Documentary compliance (hours) (DB16-19 methodology) - Score</th>\n    </tr>\n  </thead>\n  <tbody>\n    <tr>\n      <td>0</td>\n      <td>2004</td>\n      <td>Albania</td>\n      <td>NaN</td>\n      <td>NaN</td>\n      <td>NaN</td>\n      <td>NaN</td>\n      <td>NaN</td>\n      <td>NaN</td>\n      <td>NaN</td>\n      <td>NaN</td>\n      <td>...</td>\n      <td>NaN</td>\n      <td>NaN</td>\n      <td>NaN</td>\n      <td>NaN</td>\n      <td>NaN</td>\n      <td>NaN</td>\n      <td>NaN</td>\n      <td>NaN</td>\n      <td>NaN</td>\n      <td>NaN</td>\n    </tr>\n    <tr>\n      <td>1</td>\n      <td>2004</td>\n      <td>Algeria</td>\n      <td>NaN</td>\n      <td>NaN</td>\n      <td>NaN</td>\n      <td>NaN</td>\n      <td>NaN</td>\n      <td>NaN</td>\n      <td>NaN</td>\n      <td>NaN</td>\n      <td>...</td>\n      <td>NaN</td>\n      <td>NaN</td>\n      <td>NaN</td>\n      <td>NaN</td>\n      <td>NaN</td>\n      <td>NaN</td>\n      <td>NaN</td>\n      <td>NaN</td>\n      <td>NaN</td>\n      <td>NaN</td>\n    </tr>\n    <tr>\n      <td>2</td>\n      <td>2004</td>\n      <td>Angola</td>\n      <td>NaN</td>\n      <td>NaN</td>\n      <td>NaN</td>\n      <td>NaN</td>\n      <td>NaN</td>\n      <td>NaN</td>\n      <td>NaN</td>\n      <td>NaN</td>\n      <td>...</td>\n      <td>NaN</td>\n      <td>NaN</td>\n      <td>NaN</td>\n      <td>NaN</td>\n      <td>NaN</td>\n      <td>NaN</td>\n      <td>NaN</td>\n      <td>NaN</td>\n      <td>NaN</td>\n      <td>NaN</td>\n    </tr>\n    <tr>\n      <td>3</td>\n      <td>2004</td>\n      <td>Argentina</td>\n      <td>NaN</td>\n      <td>NaN</td>\n      <td>NaN</td>\n      <td>NaN</td>\n      <td>NaN</td>\n      <td>NaN</td>\n      <td>NaN</td>\n      <td>NaN</td>\n      <td>...</td>\n      <td>NaN</td>\n      <td>NaN</td>\n      <td>NaN</td>\n      <td>NaN</td>\n      <td>NaN</td>\n      <td>NaN</td>\n      <td>NaN</td>\n      <td>NaN</td>\n      <td>NaN</td>\n      <td>NaN</td>\n    </tr>\n    <tr>\n      <td>4</td>\n      <td>2004</td>\n      <td>Armenia</td>\n      <td>NaN</td>\n      <td>NaN</td>\n      <td>NaN</td>\n      <td>NaN</td>\n      <td>NaN</td>\n      <td>NaN</td>\n      <td>NaN</td>\n      <td>NaN</td>\n      <td>...</td>\n      <td>NaN</td>\n      <td>NaN</td>\n      <td>NaN</td>\n      <td>NaN</td>\n      <td>NaN</td>\n      <td>NaN</td>\n      <td>NaN</td>\n      <td>NaN</td>\n      <td>NaN</td>\n      <td>NaN</td>\n    </tr>\n  </tbody>\n</table>\n<p>5 rows × 207 columns</p>\n</div>"
     },
     "metadata": {}
    }
   ],
   "source": [
    "import pandas as pd \n",
    "import numpy as np \n",
    "\n",
    "\n",
    "df=pd.read_csv('data/DBData.csv')\n",
    "#remooving the useless columns\n",
    "df=df.drop(['Country Code','Unnamed: 20','Indicator Code'],axis=1)\n",
    "df=df.pivot_table(index='Indicator Name',\n",
    "         columns='Country Name').unstack().reset_index()\n",
    "\n",
    "df.columns=['Year','Country','Indicator Name','Vals']\n",
    "\n",
    "\n",
    "df=df.pivot_table(values='Vals',\n",
    "         index='Indicator Name',\n",
    "         columns=['Year','Country']).T\n",
    "\n",
    "df=df.reset_index()\n",
    "\n",
    "#remooving the name of the index axis \n",
    "df = df.rename_axis(None, axis = 1)\n",
    "display(df.head(5))"
   ]
  },
  {
   "cell_type": "markdown",
   "metadata": {},
   "source": [
    "# 2 GDP and ease of doing business\n",
    "\n",
    "Using the additional data in `data/GDPpc.csv`, join the clean dataset in **1** to the GDP data.\n",
    "\n",
    "**What are the 3 Ease of Doing Business variables most closely linked to GDP?**\n",
    "\n",
    "Answer by giving their correlation ratio, and give a possible explanation and a data visualization\n",
    "\n",
    "**hint:** trying to do `df.corr()` or `sns.pairplot()` on the whole dataset will crash most computers. Be smart about the number of columns you're testing at once."
   ]
  },
  {
   "cell_type": "code",
   "execution_count": 71,
   "metadata": {},
   "outputs": [
    {
     "output_type": "display_data",
     "data": {
      "text/plain": "  Country Name Country Code                Indicator Name  Indicator Code  \\\n0        Aruba          ABW  GDP per capita (current US$)  NY.GDP.PCAP.CD   \n1  Afghanistan          AFG  GDP per capita (current US$)  NY.GDP.PCAP.CD   \n2       Angola          AGO  GDP per capita (current US$)  NY.GDP.PCAP.CD   \n\n        1960       1961       1962       1963       1964        1965  ...  \\\n0        NaN        NaN        NaN        NaN        NaN         NaN  ...   \n1  59.777327  59.878153  58.492874  78.782758  82.208444  101.290471  ...   \n2        NaN        NaN        NaN        NaN        NaN         NaN  ...   \n\n           2009          2010          2011          2012          2013  \\\n0  24630.939270  23512.602600  24984.279450  24709.602260  25018.308950   \n1    444.184404    550.514974    599.297630    648.511070    647.966461   \n2   3117.896944   3585.905553   4615.867475   5102.489969   5258.407376   \n\n           2014          2015          2016          2017  2018  \n0  25528.403780  25796.380250  25251.639680  25655.102020   NaN  \n1    625.339539    590.076474    549.582760    550.068459   NaN  \n2   5412.692348   4170.730358   3509.604211   4100.289786   NaN  \n\n[3 rows x 63 columns]",
      "text/html": "<div>\n<style scoped>\n    .dataframe tbody tr th:only-of-type {\n        vertical-align: middle;\n    }\n\n    .dataframe tbody tr th {\n        vertical-align: top;\n    }\n\n    .dataframe thead th {\n        text-align: right;\n    }\n</style>\n<table border=\"1\" class=\"dataframe\">\n  <thead>\n    <tr style=\"text-align: right;\">\n      <th></th>\n      <th>Country Name</th>\n      <th>Country Code</th>\n      <th>Indicator Name</th>\n      <th>Indicator Code</th>\n      <th>1960</th>\n      <th>1961</th>\n      <th>1962</th>\n      <th>1963</th>\n      <th>1964</th>\n      <th>1965</th>\n      <th>...</th>\n      <th>2009</th>\n      <th>2010</th>\n      <th>2011</th>\n      <th>2012</th>\n      <th>2013</th>\n      <th>2014</th>\n      <th>2015</th>\n      <th>2016</th>\n      <th>2017</th>\n      <th>2018</th>\n    </tr>\n  </thead>\n  <tbody>\n    <tr>\n      <td>0</td>\n      <td>Aruba</td>\n      <td>ABW</td>\n      <td>GDP per capita (current US$)</td>\n      <td>NY.GDP.PCAP.CD</td>\n      <td>NaN</td>\n      <td>NaN</td>\n      <td>NaN</td>\n      <td>NaN</td>\n      <td>NaN</td>\n      <td>NaN</td>\n      <td>...</td>\n      <td>24630.939270</td>\n      <td>23512.602600</td>\n      <td>24984.279450</td>\n      <td>24709.602260</td>\n      <td>25018.308950</td>\n      <td>25528.403780</td>\n      <td>25796.380250</td>\n      <td>25251.639680</td>\n      <td>25655.102020</td>\n      <td>NaN</td>\n    </tr>\n    <tr>\n      <td>1</td>\n      <td>Afghanistan</td>\n      <td>AFG</td>\n      <td>GDP per capita (current US$)</td>\n      <td>NY.GDP.PCAP.CD</td>\n      <td>59.777327</td>\n      <td>59.878153</td>\n      <td>58.492874</td>\n      <td>78.782758</td>\n      <td>82.208444</td>\n      <td>101.290471</td>\n      <td>...</td>\n      <td>444.184404</td>\n      <td>550.514974</td>\n      <td>599.297630</td>\n      <td>648.511070</td>\n      <td>647.966461</td>\n      <td>625.339539</td>\n      <td>590.076474</td>\n      <td>549.582760</td>\n      <td>550.068459</td>\n      <td>NaN</td>\n    </tr>\n    <tr>\n      <td>2</td>\n      <td>Angola</td>\n      <td>AGO</td>\n      <td>GDP per capita (current US$)</td>\n      <td>NY.GDP.PCAP.CD</td>\n      <td>NaN</td>\n      <td>NaN</td>\n      <td>NaN</td>\n      <td>NaN</td>\n      <td>NaN</td>\n      <td>NaN</td>\n      <td>...</td>\n      <td>3117.896944</td>\n      <td>3585.905553</td>\n      <td>4615.867475</td>\n      <td>5102.489969</td>\n      <td>5258.407376</td>\n      <td>5412.692348</td>\n      <td>4170.730358</td>\n      <td>3509.604211</td>\n      <td>4100.289786</td>\n      <td>NaN</td>\n    </tr>\n  </tbody>\n</table>\n<p>3 rows × 63 columns</p>\n</div>"
     },
     "metadata": {}
    },
    {
     "output_type": "execute_result",
     "data": {
      "text/plain": [
       "   Year      Country   GDPperCap\n",
       "0  1960  Afghanistan   59.777327\n",
       "1  1960      Albania         NaN\n",
       "2  1960      Algeria  244.824806"
      ],
      "text/html": "<div>\n<style scoped>\n    .dataframe tbody tr th:only-of-type {\n        vertical-align: middle;\n    }\n\n    .dataframe tbody tr th {\n        vertical-align: top;\n    }\n\n    .dataframe thead th {\n        text-align: right;\n    }\n</style>\n<table border=\"1\" class=\"dataframe\">\n  <thead>\n    <tr style=\"text-align: right;\">\n      <th></th>\n      <th>Year</th>\n      <th>Country</th>\n      <th>GDPperCap</th>\n    </tr>\n  </thead>\n  <tbody>\n    <tr>\n      <td>0</td>\n      <td>1960</td>\n      <td>Afghanistan</td>\n      <td>59.777327</td>\n    </tr>\n    <tr>\n      <td>1</td>\n      <td>1960</td>\n      <td>Albania</td>\n      <td>NaN</td>\n    </tr>\n    <tr>\n      <td>2</td>\n      <td>1960</td>\n      <td>Algeria</td>\n      <td>244.824806</td>\n    </tr>\n  </tbody>\n</table>\n</div>"
     },
     "metadata": {},
     "execution_count": 71
    }
   ],
   "source": [
    "gdp = pd.read_csv('data/GDPpc.csv')\n",
    "display(gdp.head(3))\n",
    "# Same as above with World Bank GDP Data\n",
    "gdp = gdp.drop(['Country Code', 'Indicator Code'], 1)\n",
    "# One row per country per year with GDP\n",
    "gdp = pd.DataFrame(\n",
    "        gdp.pivot(index='Indicator Name', \n",
    "                 columns='Country Name'\n",
    "      ).unstack(\n",
    "      ).reset_index(drop=False)\n",
    ")\n",
    "gdp = gdp.drop('Indicator Name', 1)\n",
    "gdp.columns = ['Year', 'Country', 'GDPperCap']\n",
    "gdp.head(3)"
   ]
  },
  {
   "cell_type": "code",
   "execution_count": 115,
   "metadata": {},
   "outputs": [
    {
     "output_type": "execute_result",
     "data": {
      "text/plain": [
       "Registering property: Quality of land administration index with Gender (0-30) (DB17-19 methodology) - Score     0.578568\n",
       "Registering property: Quality of land administration index (0-30) (DB17-19 methodology)                         0.580885\n",
       "Global: Ease of doing business score (DB17-19 methodology)                                                      0.605895\n",
       "Global: Ease of doing business score (DB16 methodology)                                                         0.614590\n",
       "Global: Ease of doing business score (DB10-14 methodology)                                                      0.615020\n",
       "Global: Ease of doing business score (DB15 methodology)                                                         0.621080\n",
       "Resolving insolvency: Recovery rate (cents on the dollar) - Score                                               0.644209\n",
       "Resolving insolvency: Recovery rate (cents on the dollar)                                                       0.644232\n",
       "Resolving insolvency (DB04-14 methodology) - Score                                                              0.644669\n",
       "Getting electricity: Total duration and frequency of outages per customer a year (0-3) (DB16-19 methodology)    0.646972\n",
       "Name: GDPperCap, dtype: float64"
      ]
     },
     "metadata": {},
     "execution_count": 115
    }
   ],
   "source": [
    "#merging the 2 data frames\n",
    "df=pd.merge(gdp,df)\n",
    "\n",
    "corr=df.corr()['GDPperCap']\n",
    "\n",
    "#since the correration is 1 for GDPperCap\n",
    "corr=corr.drop('GDPperCap')   \n",
    "\n",
    "#(abs since the corr can be negative)\n",
    "corr.abs().sort_values().dropna().tail(10)\n",
    "\n",
    "\n",
    "\n",
    "#1 Getting electricity: Total duration and frequency of outages per customer a year (0-3) (DB16-19 methodology)\n",
    "#2 Resolving insolvency (DB04-14 methodology) - Score \n",
    "#3 Global: Ease of doing business score (DB15 methodology) "
   ]
  },
  {
   "cell_type": "markdown",
   "metadata": {},
   "source": [
    "# 3. Chocolate Nobel question\n",
    "\n",
    "In this repository is the academic paper `chocolate_nobel.pdf`. \n",
    "\n",
    "Explain in 3 paragraphs why this paper's conclusions are bad statistics."
   ]
  },
  {
   "source": [
    "1)A lot of countries that are included in this article ( if not all ) are rich countries. People eat more chocolate in those developed countries in general.  In those countries, they have more people working in research and they have more people who have higher educations. \n",
    "\n",
    "2) they used the data from everyone when they should have found data  about the chocolate consumption in people who work in academic fields,  people with PhD or  people who have articles published etc..  \n",
    "\n",
    "3)They don't even know the chocolate consumption of the Nobel Price winners. Someone can win a Nobel price and not eat chocolate at all. "
   ],
   "cell_type": "markdown",
   "metadata": {}
  }
 ],
 "metadata": {
  "kernelspec": {
   "display_name": "Python 3",
   "language": "python",
   "name": "python3"
  },
  "language_info": {
   "codemirror_mode": {
    "name": "ipython",
    "version": 3
   },
   "file_extension": ".py",
   "mimetype": "text/x-python",
   "name": "python",
   "nbconvert_exporter": "python",
   "pygments_lexer": "ipython3",
   "version": "3.7.4-final"
  }
 },
 "nbformat": 4,
 "nbformat_minor": 4
}